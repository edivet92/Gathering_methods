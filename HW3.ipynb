{
 "cells": [
  {
   "cell_type": "code",
   "execution_count": 158,
   "metadata": {},
   "outputs": [],
   "source": [
    "import requests\n",
    "from bs4 import BeautifulSoup as bs\n",
    "import pandas as pd\n",
    "from time import sleep\n",
    "import json"
   ]
  },
  {
   "cell_type": "code",
   "execution_count": 159,
   "metadata": {},
   "outputs": [],
   "source": [
    "head_link = 'https://spb.rabota.ru'"
   ]
  },
  {
   "cell_type": "code",
   "execution_count": 160,
   "metadata": {},
   "outputs": [],
   "source": [
    "result_dict = {\n",
    "    'name': [],\n",
    "    'salary': [],\n",
    "    'link': [],\n",
    "    'site': [],\n",
    "    'employer': [],\n",
    "    'location': [],\n",
    "    'short review': []\n",
    "}"
   ]
  },
  {
   "cell_type": "code",
   "execution_count": 161,
   "metadata": {},
   "outputs": [
    {
     "data": {
      "text/html": [
       "<div>\n",
       "<style scoped>\n",
       "    .dataframe tbody tr th:only-of-type {\n",
       "        vertical-align: middle;\n",
       "    }\n",
       "\n",
       "    .dataframe tbody tr th {\n",
       "        vertical-align: top;\n",
       "    }\n",
       "\n",
       "    .dataframe thead th {\n",
       "        text-align: right;\n",
       "    }\n",
       "</style>\n",
       "<table border=\"1\" class=\"dataframe\">\n",
       "  <thead>\n",
       "    <tr style=\"text-align: right;\">\n",
       "      <th></th>\n",
       "      <th>name</th>\n",
       "      <th>salary</th>\n",
       "      <th>link</th>\n",
       "      <th>site</th>\n",
       "      <th>employer</th>\n",
       "      <th>location</th>\n",
       "      <th>short review</th>\n",
       "    </tr>\n",
       "  </thead>\n",
       "  <tbody>\n",
       "    <tr>\n",
       "      <th>0</th>\n",
       "      <td>Middle Data Scientist</td>\n",
       "      <td>по договоренности</td>\n",
       "      <td>https://spb.rabota.ru/vacancy/46838153/?search_id=1676319508234qgb5dgrnt6</td>\n",
       "      <td>https://spb.rabota.ru</td>\n",
       "      <td>Работа.ру</td>\n",
       "      <td>м. Петроградская</td>\n",
       "      <td>Работа.ру — один из главных job-сервисов России. Мы помогаем людям не только найти работу, но и прокачать свои навыки или полностью поменять сферу...</td>\n",
       "    </tr>\n",
       "    <tr>\n",
       "      <th>1</th>\n",
       "      <td>Data Scientist/Аналитик данных</td>\n",
       "      <td>по договоренности</td>\n",
       "      <td>https://spb.rabota.ru/vacancy/46901266/?search_id=1676319508234qgb5dgrnt6</td>\n",
       "      <td>https://spb.rabota.ru</td>\n",
       "      <td>Автоматика - сервис, ООО</td>\n",
       "      <td>м. Адмиралтейская</td>\n",
       "      <td>Мы команда \"Автоматика Сервис\", часть ИТ-функции \"Газпром нефти\", специализирующаяся на проектировании, внедрении и комплексном обслуживании систе...</td>\n",
       "    </tr>\n",
       "    <tr>\n",
       "      <th>2</th>\n",
       "      <td>Аналитик данных</td>\n",
       "      <td>до 50 000 руб.</td>\n",
       "      <td>https://spb.rabota.ru/vacancy/47260791/?search_id=1676319508234qgb5dgrnt6</td>\n",
       "      <td>https://spb.rabota.ru</td>\n",
       "      <td>ООО \"ИНТЭК-КОНСАЛТИНГ\"</td>\n",
       "      <td>Удаленная работа</td>\n",
       "      <td>Создание математических моделей, скриптов обработки данных (на базе Power Query, SQL и VBA), витрин и дашбордов; Подготовка данных для анализа: сб...</td>\n",
       "    </tr>\n",
       "  </tbody>\n",
       "</table>\n",
       "</div>"
      ],
      "text/plain": [
       "                             name             salary  \\\n",
       "0           Middle Data Scientist  по договоренности   \n",
       "1  Data Scientist/Аналитик данных  по договоренности   \n",
       "2                 Аналитик данных     до 50 000 руб.   \n",
       "\n",
       "                                                                        link  \\\n",
       "0  https://spb.rabota.ru/vacancy/46838153/?search_id=1676319508234qgb5dgrnt6   \n",
       "1  https://spb.rabota.ru/vacancy/46901266/?search_id=1676319508234qgb5dgrnt6   \n",
       "2  https://spb.rabota.ru/vacancy/47260791/?search_id=1676319508234qgb5dgrnt6   \n",
       "\n",
       "                    site                  employer           location  \\\n",
       "0  https://spb.rabota.ru                 Работа.ру   м. Петроградская   \n",
       "1  https://spb.rabota.ru  Автоматика - сервис, ООО  м. Адмиралтейская   \n",
       "2  https://spb.rabota.ru    ООО \"ИНТЭК-КОНСАЛТИНГ\"   Удаленная работа   \n",
       "\n",
       "                                                                                                                                            short review  \n",
       "0  Работа.ру — один из главных job-сервисов России. Мы помогаем людям не только найти работу, но и прокачать свои навыки или полностью поменять сферу...  \n",
       "1  Мы команда \"Автоматика Сервис\", часть ИТ-функции \"Газпром нефти\", специализирующаяся на проектировании, внедрении и комплексном обслуживании систе...  \n",
       "2  Создание математических моделей, скриптов обработки данных (на базе Power Query, SQL и VBA), витрин и дашбордов; Подготовка данных для анализа: сб...  "
      ]
     },
     "execution_count": 161,
     "metadata": {},
     "output_type": "execute_result"
    }
   ],
   "source": [
    "\n",
    "head_link = 'https://spb.rabota.ru'\n",
    "\n",
    "for i in range(10):\n",
    "    url = 'https://spb.rabota.ru/vacancy'\n",
    "    params = {\n",
    "    'query': 'python',\n",
    "    'sort': 'relevance',\n",
    "    'page': i\n",
    "    }\n",
    "    headers = {\n",
    "    'User-Agent': 'Mozilla/5.0 (Windows NT 10.0; Win64; x64) AppleWebKit/537.36 (KHTML, like Gecko) Chrome/108.0.0.0 YaBrowser/23.1.2.931 Yowser/2.5 Safari/537.36'\n",
    "    }\n",
    "\n",
    "    response = requests.get(url, headers=headers, params=params)\n",
    "    \n",
    "    soup = bs(response.content, 'html.parser')  \n",
    "    \n",
    "    articles = soup.find_all('div', {'class': 'vacancy-preview-card__top'})\n",
    "    \n",
    "    for article in articles:\n",
    "        result_dict['name'].append(article.find('h3', {'class': 'vacancy-preview-card__title'}).get_text(strip=True))\n",
    "        result_dict['salary'].append(article.find('div', {'class': 'vacancy-preview-card__salary'}).get_text(strip=True))\n",
    "        result_dict['link'].append(head_link + article.find('a', {'class': 'vacancy-preview-card__title_border'})['href'])\n",
    "        result_dict['site'].append(head_link)\n",
    "        result_dict['employer'].append(article.find('span', {'class': 'vacancy-preview-card__company-name'}).get_text(strip=True))\n",
    "        result_dict['location'].append(article.find('span', {'class': 'vacancy-preview-location__address-text'}).get_text(strip=True))\n",
    "        result_dict['short review'].append(article.find('div', {'class': 'vacancy-preview-card__short-description'}).get_text(strip=True))\n",
    "    sleep(2)\n",
    "    \n",
    "result_df = pd.DataFrame.from_dict(result_dict)\n",
    "result_df.head(3)    \n"
   ]
  },
  {
   "cell_type": "code",
   "execution_count": 162,
   "metadata": {},
   "outputs": [],
   "source": [
    "result_df.to_csv('Python_vacancies.csv', encoding='utf-8')"
   ]
  },
  {
   "cell_type": "code",
   "execution_count": 163,
   "metadata": {},
   "outputs": [],
   "source": [
    "with open('Python_vacancies.json', 'w', encoding='utf-8') as f:\n",
    "    json.dump(result_dict, f, ensure_ascii=False)"
   ]
  }
 ],
 "metadata": {
  "kernelspec": {
   "display_name": "Python 3",
   "language": "python",
   "name": "python3"
  },
  "language_info": {
   "codemirror_mode": {
    "name": "ipython",
    "version": 3
   },
   "file_extension": ".py",
   "mimetype": "text/x-python",
   "name": "python",
   "nbconvert_exporter": "python",
   "pygments_lexer": "ipython3",
   "version": "3.7.6"
  }
 },
 "nbformat": 4,
 "nbformat_minor": 4
}
