{
 "cells": [
  {
   "cell_type": "code",
   "execution_count": 1,
   "metadata": {},
   "outputs": [],
   "source": [
    "from pprint import pprint"
   ]
  },
  {
   "cell_type": "code",
   "execution_count": 2,
   "metadata": {},
   "outputs": [],
   "source": [
    "from pymongo import MongoClient\n",
    "client = MongoClient('localhost:27017')"
   ]
  },
  {
   "cell_type": "code",
   "execution_count": 3,
   "metadata": {},
   "outputs": [],
   "source": [
    "db = client.InstaSpyder"
   ]
  },
  {
   "cell_type": "code",
   "execution_count": 4,
   "metadata": {},
   "outputs": [],
   "source": [
    "collection = db.instaspy"
   ]
  },
  {
   "cell_type": "code",
   "execution_count": 5,
   "metadata": {},
   "outputs": [
    {
     "data": {
      "text/plain": [
       "11"
      ]
     },
     "execution_count": 5,
     "metadata": {},
     "output_type": "execute_result"
    }
   ],
   "source": [
    "collection.count_documents({'user_name': 'denisegorovvet'})"
   ]
  },
  {
   "cell_type": "code",
   "execution_count": 6,
   "metadata": {
    "scrolled": true
   },
   "outputs": [
    {
     "name": "stdout",
     "output_type": "stream",
     "text": [
      "{'_id': ObjectId('640de58f10297c5da40380ab'),\n",
      " 'media_id': '17905254247052589',\n",
      " 'media_type': 'CAROUSEL_ALBUM',\n",
      " 'media_url': [{'checksum': '66a6a07225daf52576fb2230b8ae521c',\n",
      "                'path': 'full/a87b1c2a05253e1f53509887f50959ae6e8ca33c.jpg',\n",
      "                'status': 'uptodate',\n",
      "                'url': 'https://scontent-mia3-1.cdninstagram.com/v/t51.2885-15/22429806_310752699418595_7084725314131066880_n.jpg?_nc_cat=104&ccb=1-7&_nc_sid=8ae9d6&_nc_ohc=HfKT08uy2EsAX8G6BEW&_nc_ht=scontent-mia3-1.cdninstagram.com&edm=ANQ71j8EAAAA&oh=00_AfBS7Ts-DdTIfC7fyTVgWhags2oDjj2Zw9vKWaT1u9yhhw&oe=6412CE54'}],\n",
      " 'time_stamp': '2017-10-12T08:56:15+0000',\n",
      " 'user_name': 'denisegorovvet'}\n",
      "{'_id': ObjectId('640de59310297c5da40380ac'),\n",
      " 'media_id': '17876775634182235',\n",
      " 'media_type': 'IMAGE',\n",
      " 'media_url': [{'checksum': '9859ad5155092d8f2232b5dcce0291c7',\n",
      "                'path': 'full/b738ca31042bb9639f52d71ae04d738793b3a9f5.jpg',\n",
      "                'status': 'uptodate',\n",
      "                'url': 'https://scontent-mia3-2.cdninstagram.com/v/t51.2885-15/22280631_1894826203866527_894201762846605312_n.jpg?_nc_cat=110&ccb=1-7&_nc_sid=8ae9d6&_nc_ohc=QwQqv5BEzukAX_c14eV&_nc_ht=scontent-mia3-2.cdninstagram.com&edm=ANQ71j8EAAAA&oh=00_AfCK0nxXlVBk82yTeOrX23IM87Rpf8iQt8vfG2W3XZdxPA&oe=6411DA30'}],\n",
      " 'time_stamp': '2017-10-10T16:00:13+0000',\n",
      " 'user_name': 'denisegorovvet'}\n",
      "{'_id': ObjectId('640de59710297c5da40380ad'),\n",
      " 'media_id': '17890952059113509',\n",
      " 'media_type': 'CAROUSEL_ALBUM',\n",
      " 'media_url': [{'checksum': '3d322df41af4aae7c493d51dbc2680ee',\n",
      "                'path': 'full/ede66f2ad4bb2d236cff5b856a3cef32ed3c92e6.jpg',\n",
      "                'status': 'uptodate',\n",
      "                'url': 'https://scontent-mia3-2.cdninstagram.com/v/t51.2885-15/22427587_2048901435346415_7657983592789704704_n.jpg?_nc_cat=102&ccb=1-7&_nc_sid=8ae9d6&_nc_ohc=e-sT0jwoIUsAX_vp9UI&_nc_ht=scontent-mia3-2.cdninstagram.com&edm=ANQ71j8EAAAA&oh=00_AfALcUSv0K4pOPE2sWB_y3PexgnkNPeJgD_ToRxA1lbUeg&oe=641390F4'}],\n",
      " 'time_stamp': '2017-10-14T14:57:16+0000',\n",
      " 'user_name': 'denisegorovvet'}\n",
      "{'_id': ObjectId('640de59910297c5da40380ae'),\n",
      " 'media_id': '17844527491222762',\n",
      " 'media_type': 'CAROUSEL_ALBUM',\n",
      " 'media_url': [{'checksum': '7a1eddce245eaf005a2c060db6e34147',\n",
      "                'path': 'full/a84b72ce8a74f5648dff0d0fd9e16db73771d47c.jpg',\n",
      "                'status': 'uptodate',\n",
      "                'url': 'https://scontent-mia3-2.cdninstagram.com/v/t51.2885-15/22500531_131549930928224_6728967572366032896_n.jpg?_nc_cat=107&ccb=1-7&_nc_sid=8ae9d6&_nc_ohc=hA9joO6dMRsAX_QDR9M&_nc_ht=scontent-mia3-2.cdninstagram.com&edm=ANQ71j8EAAAA&oh=00_AfCvBm5aqKxefs6Y7JmRqc0_OIsVivnyyUTXKlOeQgDS6g&oe=64123220'}],\n",
      " 'time_stamp': '2017-10-16T16:42:06+0000',\n",
      " 'user_name': 'denisegorovvet'}\n",
      "{'_id': ObjectId('640de59d10297c5da40380af'),\n",
      " 'media_id': '17891013649100911',\n",
      " 'media_type': 'CAROUSEL_ALBUM',\n",
      " 'media_url': [{'checksum': '80bc0ddcf6bd05ac54d03b2de15162d6',\n",
      "                'path': 'full/9ae91db0ee04f8e9fc0e28e709f2e73665bf4ce8.jpg',\n",
      "                'status': 'uptodate',\n",
      "                'url': 'https://scontent-mia3-2.cdninstagram.com/v/t51.2885-15/22582359_725494627636174_3521404649032646656_n.jpg?_nc_cat=105&ccb=1-7&_nc_sid=8ae9d6&_nc_ohc=0QQ8ZTY15kQAX83H5GE&_nc_oc=AQnFeznwui05S3GA6wzOrasrOepUlXZMR8sUysFNmg8Q1Ufsjiy4A5-Ln7ttsC-Pt7I&_nc_ht=scontent-mia3-2.cdninstagram.com&edm=ANQ71j8EAAAA&oh=00_AfB1X6ua2bk4lfcND9qruykftCLeRFNVFVVYwjUZtG2wxQ&oe=64133AE5'}],\n",
      " 'time_stamp': '2017-10-17T12:13:55+0000',\n",
      " 'user_name': 'denisegorovvet'}\n",
      "{'_id': ObjectId('640de5a110297c5da40380b0'),\n",
      " 'media_id': '17948571241038084',\n",
      " 'media_type': 'CAROUSEL_ALBUM',\n",
      " 'media_url': [{'checksum': 'dc485d27aa3b5a0aeccb7cdd7264595b',\n",
      "                'path': 'full/4787a49e107a83918e35f1975d1e6430377b7534.jpg',\n",
      "                'status': 'uptodate',\n",
      "                'url': 'https://scontent-mia3-1.cdninstagram.com/v/t51.2885-15/22639068_266597583862431_3762411627836604416_n.jpg?_nc_cat=108&ccb=1-7&_nc_sid=8ae9d6&_nc_ohc=RN7WRD8fFTwAX9hw-jD&_nc_ht=scontent-mia3-1.cdninstagram.com&edm=ANQ71j8EAAAA&oh=00_AfAe8gKj_y4STUVKzq6RdezqFlY3wDJIn5OwgBhx68zm9A&oe=64136D00'}],\n",
      " 'time_stamp': '2017-10-18T20:45:50+0000',\n",
      " 'user_name': 'denisegorovvet'}\n",
      "{'_id': ObjectId('640de5a310297c5da40380b1'),\n",
      " 'media_id': '17878850956183269',\n",
      " 'media_type': 'CAROUSEL_ALBUM',\n",
      " 'media_url': [{'checksum': '8ff6207bd146dd87b2aaecc884c4869e',\n",
      "                'path': 'full/8983e60b436bd5ab7b5b44fda011f68843d5ccdf.jpg',\n",
      "                'status': 'uptodate',\n",
      "                'url': 'https://scontent-mia3-1.cdninstagram.com/v/t51.2885-15/22639576_1976010192656292_3525111622420922368_n.jpg?_nc_cat=111&ccb=1-7&_nc_sid=8ae9d6&_nc_ohc=7fNqXlUuoMwAX_pv0VU&_nc_ht=scontent-mia3-1.cdninstagram.com&edm=ANQ71j8EAAAA&oh=00_AfDWzn4CWYtKqB8EUO6y81OhXJ5FcFRaebnen7gqpcy32g&oe=6412381A'}],\n",
      " 'time_stamp': '2017-10-22T18:03:46+0000',\n",
      " 'user_name': 'denisegorovvet'}\n",
      "{'_id': ObjectId('640de5a710297c5da40380b2'),\n",
      " 'media_id': '17867461057210364',\n",
      " 'media_type': 'CAROUSEL_ALBUM',\n",
      " 'media_url': [{'checksum': '01b02e2fd21d29b975585539f2e401c1',\n",
      "                'path': 'full/c82b8ff4cbd5d08eba59491e3b19bbdf239388d7.jpg',\n",
      "                'status': 'uptodate',\n",
      "                'url': 'https://scontent-mia3-2.cdninstagram.com/v/t51.2885-15/28157891_1437082879734744_5011247513169035264_n.jpg?_nc_cat=102&ccb=1-7&_nc_sid=8ae9d6&_nc_ohc=dW9SGkW5UEcAX_wUQAk&_nc_ht=scontent-mia3-2.cdninstagram.com&edm=ANQ71j8EAAAA&oh=00_AfAdpYlLVmn2FSFTc6fRyJD-CCbkVwuapqLzqfIyC5xPGQ&oe=641350F6'}],\n",
      " 'time_stamp': '2018-02-27T13:50:01+0000',\n",
      " 'user_name': 'denisegorovvet'}\n",
      "{'_id': ObjectId('640de5ab10297c5da40380b3'),\n",
      " 'media_id': '17928696604025708',\n",
      " 'media_type': 'CAROUSEL_ALBUM',\n",
      " 'media_url': [{'checksum': '458df6e449060444bf3d6b5f4722988c',\n",
      "                'path': 'full/3001537e189914bd6b217811814705209f055b50.jpg',\n",
      "                'status': 'uptodate',\n",
      "                'url': 'https://scontent-mia3-1.cdninstagram.com/v/t51.2885-15/28428208_949917631838621_5809758499877421056_n.jpg?_nc_cat=106&ccb=1-7&_nc_sid=8ae9d6&_nc_ohc=bsA1OlwnDnUAX_PufpI&_nc_ht=scontent-mia3-1.cdninstagram.com&edm=ANQ71j8EAAAA&oh=00_AfBPQAP7aI8RTbm5eiUaKjzQQ6wbsmuj5n-xEFp5F2BQNg&oe=641364FE'}],\n",
      " 'time_stamp': '2018-03-06T20:55:43+0000',\n",
      " 'user_name': 'denisegorovvet'}\n",
      "{'_id': ObjectId('640de5ad10297c5da40380b4'),\n",
      " 'media_id': '17905259266359801',\n",
      " 'media_type': 'CAROUSEL_ALBUM',\n",
      " 'media_url': [{'checksum': '75067f5dae634ef07502b58bdfa9103d',\n",
      "                'path': 'full/ef5830a3477ad0036a56cd34c30ca1e9b611615a.jpg',\n",
      "                'status': 'uptodate',\n",
      "                'url': 'https://scontent-mia3-1.cdninstagram.com/v/t51.2885-15/67509948_166222787839309_2121927602555530728_n.jpg?_nc_cat=108&ccb=1-7&_nc_sid=8ae9d6&_nc_ohc=pjdULkwm3aAAX9RFQdT&_nc_ht=scontent-mia3-1.cdninstagram.com&edm=ANQ71j8EAAAA&oh=00_AfD_rTpiLc0wCB5IjYLKDRkz67rMU6gfDRwAjg56Ya5fiA&oe=64135042'}],\n",
      " 'time_stamp': '2019-09-01T01:24:56+0000',\n",
      " 'user_name': 'denisegorovvet'}\n",
      "{'_id': ObjectId('640de5af10297c5da40380b5'),\n",
      " 'media_id': '18048862627207492',\n",
      " 'media_type': 'IMAGE',\n",
      " 'media_url': [{'checksum': '8d10ce20c1de414caeefbb1599428b45',\n",
      "                'path': 'full/ca36a38eb4761de7f9158f38b17c7762086470db.jpg',\n",
      "                'status': 'uptodate',\n",
      "                'url': 'https://scontent-mia3-2.cdninstagram.com/v/t51.2885-15/74687609_151997856089912_4278401839691624234_n.jpg?_nc_cat=105&ccb=1-7&_nc_sid=8ae9d6&_nc_ohc=jpJyzKJSRDkAX-DTYAl&_nc_ht=scontent-mia3-2.cdninstagram.com&edm=ANQ71j8EAAAA&oh=00_AfDH3EVpZuktzabT5mzkv75ssTImgfIO5ihxlnz51Ndb3Q&oe=641264EA'}],\n",
      " 'time_stamp': '2019-12-08T20:43:05+0000',\n",
      " 'user_name': 'denisegorovvet'}\n"
     ]
    }
   ],
   "source": [
    "for i in collection.find({'user_name': 'denisegorovvet'}):\n",
    "    pprint(i)"
   ]
  },
  {
   "cell_type": "code",
   "execution_count": 7,
   "metadata": {},
   "outputs": [],
   "source": [
    "new_ricture_url = collection.find_one({'user_name': 'denisegorovvet'})['media_url'][0]['url']"
   ]
  },
  {
   "cell_type": "code",
   "execution_count": 8,
   "metadata": {},
   "outputs": [],
   "source": [
    "import requests"
   ]
  },
  {
   "cell_type": "code",
   "execution_count": 10,
   "metadata": {},
   "outputs": [],
   "source": [
    "with open('new_picture.jpg', 'wb') as f:\n",
    "    f.write(requests.get(new_ricture_url).content)"
   ]
  },
  {
   "cell_type": "code",
   "execution_count": null,
   "metadata": {},
   "outputs": [],
   "source": []
  }
 ],
 "metadata": {
  "kernelspec": {
   "display_name": "Python 3",
   "language": "python",
   "name": "python3"
  },
  "language_info": {
   "codemirror_mode": {
    "name": "ipython",
    "version": 3
   },
   "file_extension": ".py",
   "mimetype": "text/x-python",
   "name": "python",
   "nbconvert_exporter": "python",
   "pygments_lexer": "ipython3",
   "version": "3.7.6"
  }
 },
 "nbformat": 4,
 "nbformat_minor": 4
}
