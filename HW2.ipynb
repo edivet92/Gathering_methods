{
 "cells": [
  {
   "cell_type": "code",
   "execution_count": 164,
   "metadata": {},
   "outputs": [],
   "source": [
    "from lxml import html"
   ]
  },
  {
   "cell_type": "code",
   "execution_count": 165,
   "metadata": {},
   "outputs": [],
   "source": [
    "import requests"
   ]
  },
  {
   "cell_type": "code",
   "execution_count": 166,
   "metadata": {},
   "outputs": [],
   "source": [
    "import json"
   ]
  },
  {
   "cell_type": "markdown",
   "metadata": {},
   "source": [
    "Написать приложение и функцию, которые собирают основные новости с сайта на выбор lenta.ru, mail.ru, dzen.ru . Для парсинга использовать XPath\n",
    "Структура данных должна содержать:\n",
    "* название источника\n",
    "* наименование новости\n",
    "* ссылку на новость\n",
    "* дата публикации\n",
    "минимум один сайт максимум все.\n",
    "\n",
    "Подсказка 1. У ленты нет даты в новости. Посмотрите откуда ее взять\n",
    "Подсказка 2. У дзена и mail нет своих новостей. Нужно найти источник."
   ]
  },
  {
   "cell_type": "code",
   "execution_count": 167,
   "metadata": {},
   "outputs": [],
   "source": [
    "url = 'https://lenta.ru'\n",
    "header = {\n",
    "    'User-Agent': 'Mozilla/5.0 (Windows NT 10.0; Win64; x64) AppleWebKit/537.36 (KHTML, like Gecko) Chrome/108.0.0.0 YaBrowser/23.1.1.1138 Yowser/2.5 Safari/537.36',\n",
    "}\n",
    "response = requests.get(url, headers=header)"
   ]
  },
  {
   "cell_type": "code",
   "execution_count": 168,
   "metadata": {},
   "outputs": [],
   "source": [
    "dom = html.fromstring(response.text)"
   ]
  },
  {
   "cell_type": "code",
   "execution_count": 169,
   "metadata": {},
   "outputs": [],
   "source": [
    "news_list = dom.xpath(\"//div[contains(@class, 'topnews__column')]/a\")"
   ]
  },
  {
   "cell_type": "code",
   "execution_count": 170,
   "metadata": {},
   "outputs": [
    {
     "name": "stdout",
     "output_type": "stream",
     "text": [
      "{'Россиянам перечислили удешевляющие образ предметы гардероба': {'link': 'https://lenta.ru/news/2023/02/10/cheapthings/', 'date': '2023/02/10', 'time': '17:23'}, 'Синоптик предупредил москвичей о сильном ветре и снегопадах': {'link': 'https://moslenta.ru/news/lyudi/veter-i-snegopadi-10-02-2023.htm', 'date': '//moslenta', 'time': '17:20'}, 'Россиянина осудили за осквернение мемориала воинской славы в Феодосии': {'link': 'https://lenta.ru/news/2023/02/10/oskvernpam/', 'date': '2023/02/10', 'time': '17:20'}, 'Молдавская оппозиция потребовала распустить парламент': {'link': 'https://lenta.ru/news/2023/02/10/mold_parl/', 'date': '2023/02/10', 'time': '17:19'}, 'Умер трехкратный олимпийский чемпион в составе сборной СССР': {'link': 'https://lenta.ru/news/2023/02/10/olympicssr/', 'date': '2023/02/10', 'time': '17:19'}, 'В Индии рассказали о давлении Запада из-за России': {'link': 'https://lenta.ru/news/2023/02/10/ncgr93/', 'date': '2023/02/10', 'time': '17:19'}, 'Оценены потери швейцарских компаний от ухода из России': {'link': 'https://lenta.ru/news/2023/02/10/business/', 'date': '2023/02/10', 'time': '17:18'}, 'Белоруссия эвакуировала из Турции трех женщин с детьми': {'link': 'https://lenta.ru/news/2023/02/10/beltr/', 'date': '2023/02/10', 'time': '17:16'}, 'Путин поручил производить больше деревянных домов': {'link': 'https://lenta.ru/news/2023/02/10/derevo/', 'date': '2023/02/10', 'time': '17:15'}, 'Военкор объяснил эвакуацию населения Угледара': {'link': 'https://lenta.ru/news/2023/02/10/sladkovugledar/', 'date': '2023/02/10', 'time': '17:10'}, 'Появление Карла III в дырявых носках отказались считать нарушением этикета': {'link': 'https://lenta.ru/news/2023/02/10/thug_life/', 'date': '2023/02/10', 'time': '16:47'}, 'На границе Казахстана и России произошло землетрясение': {'link': 'https://lenta.ru/news/2023/02/10/ruskazzem/', 'date': '2023/02/10', 'time': '16:43'}}\n"
     ]
    }
   ],
   "source": [
    "news_dict = {}\n",
    "for news in news_list:\n",
    "    news_title = news.xpath(\"./div/span/text()\")[0]\n",
    "    if news.xpath('./@href')[0][0:4] == 'http':\n",
    "        news_link = news.xpath('./@href')[0]\n",
    "    else:\n",
    "        news_link = url + news.xpath('./@href')[0]\n",
    "    news_date = news.xpath('./@href')[0][6:16]\n",
    "    news_time = news.xpath('./div/div/time/text()')[0]\n",
    "    news_dict[news_title] = {\n",
    "        'link': news_link,\n",
    "        'date': news_date,\n",
    "        'time': news_time,\n",
    "    }\n",
    "print(news_dict)"
   ]
  },
  {
   "cell_type": "code",
   "execution_count": 171,
   "metadata": {},
   "outputs": [],
   "source": [
    "with open('top_news_lenta.json', 'w', encoding='utf-8') as f:\n",
    "    json.dump(news_dict, f, ensure_ascii=False)"
   ]
  },
  {
   "cell_type": "code",
   "execution_count": 172,
   "metadata": {},
   "outputs": [
    {
     "data": {
      "text/plain": [
       "{'Россиянам перечислили удешевляющие образ предметы гардероба': {'link': 'https://lenta.ru/news/2023/02/10/cheapthings/',\n",
       "  'date': '2023/02/10',\n",
       "  'time': '17:23'},\n",
       " 'Синоптик предупредил москвичей о сильном ветре и снегопадах': {'link': 'https://moslenta.ru/news/lyudi/veter-i-snegopadi-10-02-2023.htm',\n",
       "  'date': '//moslenta',\n",
       "  'time': '17:20'},\n",
       " 'Россиянина осудили за осквернение мемориала воинской славы в Феодосии': {'link': 'https://lenta.ru/news/2023/02/10/oskvernpam/',\n",
       "  'date': '2023/02/10',\n",
       "  'time': '17:20'},\n",
       " 'Молдавская оппозиция потребовала распустить парламент': {'link': 'https://lenta.ru/news/2023/02/10/mold_parl/',\n",
       "  'date': '2023/02/10',\n",
       "  'time': '17:19'},\n",
       " 'Умер трехкратный олимпийский чемпион в составе сборной СССР': {'link': 'https://lenta.ru/news/2023/02/10/olympicssr/',\n",
       "  'date': '2023/02/10',\n",
       "  'time': '17:19'},\n",
       " 'В Индии рассказали о давлении Запада из-за России': {'link': 'https://lenta.ru/news/2023/02/10/ncgr93/',\n",
       "  'date': '2023/02/10',\n",
       "  'time': '17:19'},\n",
       " 'Оценены потери швейцарских компаний от ухода из России': {'link': 'https://lenta.ru/news/2023/02/10/business/',\n",
       "  'date': '2023/02/10',\n",
       "  'time': '17:18'},\n",
       " 'Белоруссия эвакуировала из Турции трех женщин с детьми': {'link': 'https://lenta.ru/news/2023/02/10/beltr/',\n",
       "  'date': '2023/02/10',\n",
       "  'time': '17:16'},\n",
       " 'Путин поручил производить больше деревянных домов': {'link': 'https://lenta.ru/news/2023/02/10/derevo/',\n",
       "  'date': '2023/02/10',\n",
       "  'time': '17:15'},\n",
       " 'Военкор объяснил эвакуацию населения Угледара': {'link': 'https://lenta.ru/news/2023/02/10/sladkovugledar/',\n",
       "  'date': '2023/02/10',\n",
       "  'time': '17:10'},\n",
       " 'Появление Карла III в дырявых носках отказались считать нарушением этикета': {'link': 'https://lenta.ru/news/2023/02/10/thug_life/',\n",
       "  'date': '2023/02/10',\n",
       "  'time': '16:47'},\n",
       " 'На границе Казахстана и России произошло землетрясение': {'link': 'https://lenta.ru/news/2023/02/10/ruskazzem/',\n",
       "  'date': '2023/02/10',\n",
       "  'time': '16:43'}}"
      ]
     },
     "execution_count": 172,
     "metadata": {},
     "output_type": "execute_result"
    }
   ],
   "source": [
    "news_dict"
   ]
  },
  {
   "cell_type": "code",
   "execution_count": null,
   "metadata": {},
   "outputs": [],
   "source": []
  }
 ],
 "metadata": {
  "kernelspec": {
   "display_name": "Python 3",
   "language": "python",
   "name": "python3"
  },
  "language_info": {
   "codemirror_mode": {
    "name": "ipython",
    "version": 3
   },
   "file_extension": ".py",
   "mimetype": "text/x-python",
   "name": "python",
   "nbconvert_exporter": "python",
   "pygments_lexer": "ipython3",
   "version": "3.7.6"
  }
 },
 "nbformat": 4,
 "nbformat_minor": 4
}
